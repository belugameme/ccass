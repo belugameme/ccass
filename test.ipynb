{
 "cells": [
  {
   "cell_type": "code",
   "execution_count": 2,
   "metadata": {},
   "outputs": [
    {
     "name": "stdout",
     "output_type": "stream",
     "text": [
      "Connection to database successful.\n"
     ]
    }
   ],
   "source": [
    "from dash import Dash, html, Input, Output, callback, dash_table, dcc\n",
    "import pandas as pd\n",
    "import dash_bootstrap_components as dbc\n",
    "from sqlalchemy.pool import NullPool\n",
    "import pandas as pd\n",
    "from sqlalchemy import text, create_engine\n",
    "from tenacity import retry, wait_exponential, stop_after_attempt\n",
    "import yaml\n",
    "from datetime import date\n",
    "\n",
    "\n",
    "cred_stream = open(\"conf/local/credentials.yml\", \"r\")\n",
    "cred_dict = yaml.safe_load(cred_stream)\n",
    "engine = create_engine(cred_dict['db_credentials']['con'])\n",
    "\n",
    "\n",
    "@retry(wait=wait_exponential(multiplier=2, min=1, max=10), stop=stop_after_attempt(5))\n",
    "def try_connection():\n",
    "    try:\n",
    "        with engine.connect() as connection:\n",
    "            stmt = text(\"SELECT 1\")\n",
    "            connection.execute(stmt)\n",
    "            df_stock_list = pd.read_sql(r'select * from stock_list', connection)\n",
    "            df_stock_participants = pd.read_sql(r'select * from stock_participants', connection)\n",
    "        print(\"Connection to database successful.\")\n",
    "        return df_stock_list, df_stock_participants\n",
    "    except Exception as e:\n",
    "        print(\"Connection to database failed, retrying.\")\n",
    "        raise Exception\n",
    "\n",
    "df_stock_list, df_stock_participants = try_connection()\n",
    "\n",
    "top_limit = 10\n",
    "min_date = '2022/07/10'\n",
    "max_date = '2022/07/15'\n",
    "\n",
    "\n",
    "stock_list = df_stock_list['stock_code']\n",
    "\n",
    "\n",
    "df = df_stock_participants[(df_stock_participants['business_date'] >= min_date) & (df_stock_participants['business_date'] <= max_date)]\n",
    "df = df.groupby('business_date').head(top_limit).reset_index(drop=True)\n",
    "a = list(df.columns)\n",
    "b= a.pop()\n",
    "df = df[[b] + a]\n"
   ]
  },
  {
   "cell_type": "code",
   "execution_count": 10,
   "metadata": {},
   "outputs": [
    {
     "data": {
      "text/plain": [
       "['2022/07/11',\n",
       " '2022/07/11',\n",
       " '2022/07/11',\n",
       " '2022/07/11',\n",
       " '2022/07/11',\n",
       " '2022/07/11',\n",
       " '2022/07/11',\n",
       " '2022/07/11',\n",
       " '2022/07/11',\n",
       " '2022/07/11',\n",
       " '2022/07/12',\n",
       " '2022/07/12',\n",
       " '2022/07/12',\n",
       " '2022/07/12',\n",
       " '2022/07/12',\n",
       " '2022/07/12',\n",
       " '2022/07/12',\n",
       " '2022/07/12',\n",
       " '2022/07/12',\n",
       " '2022/07/12',\n",
       " '2022/07/13',\n",
       " '2022/07/13',\n",
       " '2022/07/13',\n",
       " '2022/07/13',\n",
       " '2022/07/13',\n",
       " '2022/07/13',\n",
       " '2022/07/13',\n",
       " '2022/07/13',\n",
       " '2022/07/13',\n",
       " '2022/07/13',\n",
       " '2022/07/14',\n",
       " '2022/07/14',\n",
       " '2022/07/14',\n",
       " '2022/07/14',\n",
       " '2022/07/14',\n",
       " '2022/07/14',\n",
       " '2022/07/14',\n",
       " '2022/07/14',\n",
       " '2022/07/14',\n",
       " '2022/07/14',\n",
       " '2022/07/15',\n",
       " '2022/07/15',\n",
       " '2022/07/15',\n",
       " '2022/07/15',\n",
       " '2022/07/15',\n",
       " '2022/07/15',\n",
       " '2022/07/15',\n",
       " '2022/07/15',\n",
       " '2022/07/15',\n",
       " '2022/07/15']"
      ]
     },
     "execution_count": 10,
     "metadata": {},
     "output_type": "execute_result"
    }
   ],
   "source": [
    "[i['business_date'] for i in df.to_dict('records')]\n",
    "\n",
    "\n",
    "#['business_date']"
   ]
  },
  {
   "cell_type": "code",
   "execution_count": null,
   "metadata": {},
   "outputs": [],
   "source": []
  }
 ],
 "metadata": {
  "interpreter": {
   "hash": "057757b8ed8c340036833973650f1984b773ea88f44fd376d966a1568b7d4d9f"
  },
  "kernelspec": {
   "display_name": "Python 3.8.13 ('pythonlab')",
   "language": "python",
   "name": "python3"
  },
  "language_info": {
   "codemirror_mode": {
    "name": "ipython",
    "version": 3
   },
   "file_extension": ".py",
   "mimetype": "text/x-python",
   "name": "python",
   "nbconvert_exporter": "python",
   "pygments_lexer": "ipython3",
   "version": "3.8.13"
  },
  "orig_nbformat": 4
 },
 "nbformat": 4,
 "nbformat_minor": 2
}
